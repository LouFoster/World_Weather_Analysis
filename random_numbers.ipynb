{
 "cells": [
  {
   "cell_type": "code",
   "execution_count": 1,
   "id": "f6d56ff0",
   "metadata": {},
   "outputs": [],
   "source": [
    "# Import the random module.\n",
    "\n",
    "import random"
   ]
  },
  {
   "cell_type": "code",
   "execution_count": 2,
   "id": "1fd09e62",
   "metadata": {},
   "outputs": [
    {
     "data": {
      "text/plain": [
       "0.7828150689390688"
      ]
     },
     "execution_count": 2,
     "metadata": {},
     "output_type": "execute_result"
    }
   ],
   "source": [
    "random.random()"
   ]
  },
  {
   "cell_type": "code",
   "execution_count": 3,
   "id": "087e5fcc",
   "metadata": {},
   "outputs": [
    {
     "data": {
      "text/plain": [
       "-40"
      ]
     },
     "execution_count": 3,
     "metadata": {},
     "output_type": "execute_result"
    }
   ],
   "source": [
    "random.randint(-90, 90)"
   ]
  },
  {
   "cell_type": "code",
   "execution_count": null,
   "id": "1b5e85b9",
   "metadata": {},
   "outputs": [],
   "source": []
  },
  {
   "cell_type": "code",
   "execution_count": 4,
   "id": "cf257f40",
   "metadata": {},
   "outputs": [
    {
     "data": {
      "text/plain": [
       "0.8596254527939687"
      ]
     },
     "execution_count": 4,
     "metadata": {},
     "output_type": "execute_result"
    }
   ],
   "source": [
    "random.random()"
   ]
  },
  {
   "cell_type": "code",
   "execution_count": null,
   "id": "5c8176d8",
   "metadata": {},
   "outputs": [],
   "source": []
  },
  {
   "cell_type": "code",
   "execution_count": 5,
   "id": "2b3d1f9c",
   "metadata": {},
   "outputs": [
    {
     "name": "stdout",
     "output_type": "stream",
     "text": [
      "[-77.24487604211198, -55.84940183493808, -69.58005178907466, 35.53136815770374, -8.497459651548622, 20.569556560450835, -87.83144980684887, -54.06910949443966, 30.627344177737893, -44.9279567727987]\n"
     ]
    }
   ],
   "source": [
    "#Initialize an empty list, latitudes. create a while loop where we generate a random latitude and add it to the list\n",
    "x = 1\n",
    "latitudes = []\n",
    "while x < 11:\n",
    "    random_lat = random.randint(-90, 89) + random.random()\n",
    "    latitudes.append(random_lat)\n",
    "    x += 1\n",
    "    \n",
    "print (latitudes)"
   ]
  },
  {
   "cell_type": "code",
   "execution_count": null,
   "id": "f33a6342",
   "metadata": {},
   "outputs": [],
   "source": []
  },
  {
   "cell_type": "code",
   "execution_count": 6,
   "id": "c197c6e4",
   "metadata": {},
   "outputs": [
    {
     "data": {
      "text/plain": [
       "-71"
      ]
     },
     "execution_count": 6,
     "metadata": {},
     "output_type": "execute_result"
    }
   ],
   "source": [
    "# randrange() Function step 1\n",
    "random.randrange(-90, 90, step=1)"
   ]
  },
  {
   "cell_type": "code",
   "execution_count": 7,
   "id": "da1052e2",
   "metadata": {},
   "outputs": [
    {
     "data": {
      "text/plain": [
       "-84"
      ]
     },
     "execution_count": 7,
     "metadata": {},
     "output_type": "execute_result"
    }
   ],
   "source": [
    "# randrange() Function step 3\n",
    "random.randrange(-90, 90, step=3)"
   ]
  },
  {
   "cell_type": "code",
   "execution_count": 8,
   "id": "885f595f",
   "metadata": {},
   "outputs": [
    {
     "data": {
      "text/plain": [
       "-80.97225193566342"
      ]
     },
     "execution_count": 8,
     "metadata": {},
     "output_type": "execute_result"
    }
   ],
   "source": [
    "# uniform() function will allow us to \n",
    "# generate a floating-point decimal number between two given numbers inside the parentheses.\n",
    "\n",
    "random.uniform(-90, 90)"
   ]
  },
  {
   "cell_type": "code",
   "execution_count": 9,
   "id": "8428ccc4",
   "metadata": {},
   "outputs": [],
   "source": [
    "# Import the NumPy module. numerical mathematics library that can be used to make arrays or matrices of numbers\n",
    "import numpy as np"
   ]
  },
  {
   "cell_type": "code",
   "execution_count": 10,
   "id": "f0c06a5d",
   "metadata": {},
   "outputs": [
    {
     "data": {
      "text/plain": [
       "0.09789671706808178"
      ]
     },
     "execution_count": 10,
     "metadata": {},
     "output_type": "execute_result"
    }
   ],
   "source": [
    "#generate a floating-point decimal number between -90.000 and 90.000. \n",
    "#Adding the zeros past the decimal places is optional\n",
    "np.random.uniform(-90.000, 90.000)"
   ]
  },
  {
   "cell_type": "code",
   "execution_count": 11,
   "id": "85ee55b3",
   "metadata": {},
   "outputs": [
    {
     "data": {
      "text/plain": [
       "array([-41.80474952,  -1.14208541,  18.4746686 ,  80.22275515,\n",
       "       -46.33742807, -60.30836588, -40.27411203,  52.95543968,\n",
       "       -48.59205474, -52.03672797, -76.33963559, -35.49161845,\n",
       "        88.58066665,  72.32463498, -54.40056986, -20.79594773,\n",
       "       -52.26939961,  14.98361051, -48.68498562, -62.55608982,\n",
       "       -13.61487513,  -4.19953432,   5.28027302,  84.8329102 ,\n",
       "        31.84285798,  52.4593471 , -65.62089115,  67.65046246,\n",
       "       -85.74709329,  73.08438379, -68.9289952 , -19.32801413,\n",
       "        73.21640952,  45.78247174, -13.09024863,  -3.08892984,\n",
       "        84.76853696,  54.09579958, -63.74265955,  54.91640715,\n",
       "       -35.14449522, -38.7823774 , -73.74520021, -21.22663239,\n",
       "        21.42029801,   0.70220662, -42.34372264, -48.56491504,\n",
       "        -5.5599785 ,  50.95431285])"
      ]
     },
     "execution_count": 11,
     "metadata": {},
     "output_type": "execute_result"
    }
   ],
   "source": [
    "#generate more than one floating-point decimal number between -90 and 90\n",
    "#we can add the size parameter when we use the NumPy module and set that equal to any whole number.\n",
    "np.random.uniform(-90.000, 90.000, size=50)"
   ]
  },
  {
   "cell_type": "code",
   "execution_count": null,
   "id": "52ee4dd8",
   "metadata": {},
   "outputs": [],
   "source": []
  },
  {
   "cell_type": "code",
   "execution_count": 12,
   "id": "db5ec64c",
   "metadata": {},
   "outputs": [],
   "source": [
    "# Import timeit. To test how long a piece of code or function takes to run, \n",
    "import timeit"
   ]
  },
  {
   "cell_type": "code",
   "execution_count": 13,
   "id": "fe8e00f0",
   "metadata": {},
   "outputs": [
    {
     "name": "stdout",
     "output_type": "stream",
     "text": [
      "15.1 µs ± 1.95 µs per loop (mean ± std. dev. of 7 runs, 100000 loops each)\n"
     ]
    }
   ],
   "source": [
    "%timeit np.random.uniform(-90.000, 90.000, size=1500)"
   ]
  },
  {
   "cell_type": "code",
   "execution_count": null,
   "id": "228e9403",
   "metadata": {},
   "outputs": [],
   "source": []
  },
  {
   "cell_type": "code",
   "execution_count": 14,
   "id": "37774339",
   "metadata": {},
   "outputs": [
    {
     "name": "stdout",
     "output_type": "stream",
     "text": [
      "1.83 ms ± 141 µs per loop (mean ± std. dev. of 7 runs, 1000 loops each)\n"
     ]
    }
   ],
   "source": [
    "#Simoliar Code for timeit; will run quick than the stepped out approach above\n",
    "def latitudes(size):\n",
    "    latitudes = []\n",
    "    x = 0\n",
    "    while x < (size):\n",
    "        random_lat = random.randint(-90, 90) + random.random()\n",
    "        latitudes.append(random_lat)\n",
    "        x += 1\n",
    "    return latitudes\n",
    "# Call the function with 1500.\n",
    "%timeit latitudes(1500)"
   ]
  },
  {
   "cell_type": "code",
   "execution_count": null,
   "id": "c9d74d67",
   "metadata": {},
   "outputs": [],
   "source": []
  },
  {
   "cell_type": "code",
   "execution_count": null,
   "id": "475b88f7",
   "metadata": {},
   "outputs": [],
   "source": []
  },
  {
   "cell_type": "code",
   "execution_count": null,
   "id": "42d81ebf",
   "metadata": {},
   "outputs": [],
   "source": []
  },
  {
   "cell_type": "code",
   "execution_count": null,
   "id": "483333ba",
   "metadata": {},
   "outputs": [],
   "source": []
  }
 ],
 "metadata": {
  "kernelspec": {
   "display_name": "PythonData",
   "language": "python",
   "name": "pythondata"
  },
  "language_info": {
   "codemirror_mode": {
    "name": "ipython",
    "version": 3
   },
   "file_extension": ".py",
   "mimetype": "text/x-python",
   "name": "python",
   "nbconvert_exporter": "python",
   "pygments_lexer": "ipython3",
   "version": "3.9.13"
  }
 },
 "nbformat": 4,
 "nbformat_minor": 5
}
